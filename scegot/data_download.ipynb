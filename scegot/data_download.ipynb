{
 "cells": [
  {
   "cell_type": "markdown",
   "id": "4aadc739",
   "metadata": {},
   "source": [
    "Install IPython libraries (If necessary)\n",
    "\n",
    "`pip install ipython` \\\n",
    "`pip install ipykernel` \\\n",
    "`pip install ipywidgets`"
   ]
  },
  {
   "cell_type": "markdown",
   "id": "3addc121",
   "metadata": {},
   "source": [
    "import libraries"
   ]
  },
  {
   "cell_type": "code",
   "execution_count": 1,
   "id": "98286c6c",
   "metadata": {},
   "outputs": [],
   "source": [
    "import glob\n",
    "import gzip\n",
    "import os\n",
    "import tarfile\n",
    "import urllib"
   ]
  },
  {
   "cell_type": "markdown",
   "id": "a1873593",
   "metadata": {},
   "source": [
    "Set constants"
   ]
  },
  {
   "cell_type": "code",
   "execution_count": 2,
   "id": "a8f30bcf",
   "metadata": {},
   "outputs": [],
   "source": [
    "DATASET_INPUT_ROOT_PATH = os.path.join(os.getcwd(), \"dataset/\")\n",
    "DAY_NAMES = [\"day0\", \"day0.5\", \"day1\", \"day1.5\", \"day2\"]"
   ]
  },
  {
   "cell_type": "markdown",
   "id": "02082740",
   "metadata": {},
   "source": [
    "In case of `Anndata`:"
   ]
  },
  {
   "cell_type": "code",
   "execution_count": 3,
   "id": "564ca68c",
   "metadata": {},
   "outputs": [],
   "source": [
    "ANNDATA_URL = 'https://ftp.ncbi.nlm.nih.gov/geo/series/GSE241nnn/GSE241287/suppl/GSE241287_scRNAseq_hPGCLC_induction.h5ad.gz'\n",
    "ANNDATA_FILE_NAME = 'GSE241287_scRNAseq_hPGCLC_induction'\n",
    "ANNDATA_GZ_FILE_PATH = os.path.join(DATASET_INPUT_ROOT_PATH, ANNDATA_FILE_NAME) + '.h5ad.gz'\n",
    "ANNDATA_DATASET_PATH = os.path.join(DATASET_INPUT_ROOT_PATH, ANNDATA_FILE_NAME) + '.h5ad'"
   ]
  },
  {
   "cell_type": "markdown",
   "id": "168ba911",
   "metadata": {},
   "source": [
    "In case of `DataFrame(CSV)` :"
   ]
  },
  {
   "cell_type": "code",
   "execution_count": 4,
   "id": "4d920601",
   "metadata": {},
   "outputs": [],
   "source": [
    "DATAFRAME_URL = 'https://ftp.ncbi.nlm.nih.gov/geo/series/GSE241nnn/GSE241287/suppl/GSE241287_RAW.tar'\n",
    "PRE_DATAFRAME_FOLDER_NAME = 'PRE_GSE241287_RAW'\n",
    "DATAFRAME_FOLDER_NAME = 'GSE241287_RAW'\n",
    "PRE_DATAFRAME_TAR_FOLDER_PATH = os.path.join(DATASET_INPUT_ROOT_PATH, PRE_DATAFRAME_FOLDER_NAME) + '.tar'\n",
    "PRE_DATAFRAME_DATASET_FOLDER_PATH = os.path.join(DATASET_INPUT_ROOT_PATH, PRE_DATAFRAME_FOLDER_NAME)\n",
    "DATAFRAME_DATASET_FOLDER_PATH = os.path.join(DATASET_INPUT_ROOT_PATH, DATAFRAME_FOLDER_NAME)"
   ]
  },
  {
   "cell_type": "markdown",
   "id": "171bf16e",
   "metadata": {},
   "source": [
    "Get input files from NIH and decompress files"
   ]
  },
  {
   "cell_type": "markdown",
   "id": "3faf97b4",
   "metadata": {},
   "source": [
    "In case of `Anndata` :"
   ]
  },
  {
   "cell_type": "code",
   "execution_count": 5,
   "id": "afd18ea3",
   "metadata": {},
   "outputs": [],
   "source": [
    "urllib.request.urlretrieve(ANNDATA_URL, ANNDATA_GZ_FILE_PATH)\n",
    "with gzip.open(ANNDATA_GZ_FILE_PATH, mode='rb') as gz_file:\n",
    "    content = gz_file.read()\n",
    "    with open(ANNDATA_DATASET_PATH, mode='wb') as h5ad_file:\n",
    "        h5ad_file.write(content)"
   ]
  },
  {
   "cell_type": "markdown",
   "id": "afe32602",
   "metadata": {},
   "source": [
    "In case of `DataFrame(CSV)` :"
   ]
  },
  {
   "cell_type": "code",
   "execution_count": null,
   "id": "806fcc02",
   "metadata": {},
   "outputs": [],
   "source": [
    "urllib.request.urlretrieve(DATAFRAME_URL, PRE_DATAFRAME_TAR_FOLDER_PATH)\n",
    "with tarfile.open(PRE_DATAFRAME_TAR_FOLDER_PATH) as tar_file:\n",
    "    tar_file.extractall(path=PRE_DATAFRAME_DATASET_FOLDER_PATH)\n",
    "\n",
    "dataframe_gz_paths = glob.glob(f\"{PRE_DATAFRAME_DATASET_FOLDER_PATH}/*.csv.gz\")\n",
    "\n",
    "for dataframe_gz_path in dataframe_gz_paths:\n",
    "    with gzip.open(dataframe_gz_path, mode='rb') as gz_file:\n",
    "        content = gz_file.read()\n",
    "        dataframe_path = os.path.splitext(dataframe_gz_path)[0]\n",
    "        with open(dataframe_path, mode='wb') as dataframe_file:\n",
    "            dataframe_file.write(content)\n",
    "\n",
    "# merge intron file and exon file\n",
    "intron_input_file_paths = sorted(glob.glob(f\"{PRE_DATAFRAME_DATASET_FOLDER_PATH}/*intron_count.csv\"))\n",
    "exon_input_file_paths = sorted(glob.glob(f\"{PRE_DATAFRAME_DATASET_FOLDER_PATH}/*exon_count.csv\"))\n",
    "\n",
    "# os.mkdir(DATAFRAME_DATASET_FOLDER_PATH)\n",
    "for intron_file, exon_file, day_name in zip(intron_input_file_paths, exon_input_file_paths, DAY_NAMES):\n",
    "    merged_file = f\"{DATAFRAME_DATASET_FOLDER_PATH}/{day_name}.csv\"\n",
    "    with open(merged_file, 'w') as f_new:\n",
    "        with open(intron_file, 'r') as f:\n",
    "            f_new.write(f.read())\n",
    "        with open(intron_file, 'r') as f:\n",
    "            f_new.writelines(f.readlines()[1:])"
   ]
  }
 ],
 "metadata": {
  "kernelspec": {
   "display_name": ".venv",
   "language": "python",
   "name": "python3"
  },
  "language_info": {
   "codemirror_mode": {
    "name": "ipython",
    "version": 3
   },
   "file_extension": ".py",
   "mimetype": "text/x-python",
   "name": "python",
   "nbconvert_exporter": "python",
   "pygments_lexer": "ipython3",
   "version": "3.12.7"
  }
 },
 "nbformat": 4,
 "nbformat_minor": 5
}
