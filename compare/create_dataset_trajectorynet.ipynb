{
 "cells": [
  {
   "cell_type": "code",
   "execution_count": 7,
   "metadata": {},
   "outputs": [],
   "source": [
    "import os\n",
    "\n",
    "import anndata\n",
    "from scegot import scEGOT\n",
    "import pandas as pd\n",
    "import numpy as np"
   ]
  },
  {
   "cell_type": "code",
   "execution_count": 8,
   "metadata": {},
   "outputs": [],
   "source": [
    "DATASET_INPUT_ROOT_PATH = \"../data\"\n",
    "ANNDATA_DATASET_PATH = os.path.join(\n",
    "    DATASET_INPUT_ROOT_PATH, \"scRNAseq_hPGCLC_induction_Saitou.h5ad\"\n",
    ")\n",
    "# CSV_DATASET_FOLDER_PATH = os.path.join(DATASET_INPUT_ROOT_PATH, \"usedataSmall/\")\n",
    "RANDOM_STATE = 2023\n",
    "PCA_N_COMPONENTS = 150\n",
    "GMM_CLUSTER_NUMBERS = [1, 2, 4, 5, 5]\n",
    "UMAP_N_NEIGHBORS = 1000\n",
    "DAY_NAMES = [\"day0\", \"day0.5\", \"day1\", \"day1.5\", \"day2\"]"
   ]
  },
  {
   "cell_type": "code",
   "execution_count": 9,
   "metadata": {},
   "outputs": [
    {
     "name": "stdout",
     "output_type": "stream",
     "text": [
      "Processing AnnData...\n",
      "Applying RECODE...\n",
      "start RECODE for scRNA-seq data\n",
      "end RECODE for scRNA-seq\n",
      "log: {'seq_target': 'RNA', '#significant genes': 15820, '#non-significant genes': 2582, '#silent genes': 65, 'ell': 288, 'Elapsed time': '0h 0m 23s 054ms', 'solver': 'randomized', '#test_data': 2354}\n",
      "Applying UMI normalization...\n",
      "Applying log1p normalization...\n",
      "Applying PCA...\n",
      "\tsum of explained_variance_ratio = 93.67122272048897\n"
     ]
    }
   ],
   "source": [
    "input_data = anndata.read_h5ad(ANNDATA_DATASET_PATH)\n",
    "scegot = scEGOT(\n",
    "    input_data,\n",
    "    verbose=True,  # default=True\n",
    "    adata_day_key=\"cluster_day\",\n",
    ")\n",
    "\n",
    "X, pca_model = scegot.preprocess(\n",
    "    PCA_N_COMPONENTS,\n",
    "    recode_params={},\n",
    "    umi_target_sum=1e5,\n",
    "    pca_random_state=RANDOM_STATE,\n",
    "    pca_other_params={},\n",
    "    apply_recode=True,\n",
    "    apply_normalization_log1p=True,\n",
    "    apply_normalization_umi=True,\n",
    "    select_genes=True,\n",
    "    n_select_genes=2000,\n",
    ")"
   ]
  },
  {
   "cell_type": "code",
   "execution_count": 10,
   "metadata": {},
   "outputs": [
    {
     "data": {
      "text/plain": [
       "[0, 1, 2, 3, 4]"
      ]
     },
     "execution_count": 10,
     "metadata": {},
     "output_type": "execute_result"
    }
   ],
   "source": [
    "day_list = [int(float(day[3:]) * 2) for day in input_data.obs[\"cluster_day\"]]\n",
    "list(set(day_list))"
   ]
  },
  {
   "cell_type": "code",
   "execution_count": 11,
   "metadata": {},
   "outputs": [],
   "source": [
    "to_save = {\n",
    "    \"original_embedding_150d\": pd.concat(scegot.X_pca).values,\n",
    "    \"sample_labels\": np.array(day_list),\n",
    "}\n",
    "np.savez(\"../output/pgclc_150dim.npz\", **to_save)"
   ]
  },
  {
   "cell_type": "code",
   "execution_count": null,
   "metadata": {},
   "outputs": [],
   "source": []
  }
 ],
 "metadata": {
  "kernelspec": {
   "display_name": "Python 3 (ipykernel)",
   "language": "python",
   "name": "python3"
  },
  "language_info": {
   "codemirror_mode": {
    "name": "ipython",
    "version": 3
   },
   "file_extension": ".py",
   "mimetype": "text/x-python",
   "name": "python",
   "nbconvert_exporter": "python",
   "pygments_lexer": "ipython3",
   "version": "3.11.8"
  }
 },
 "nbformat": 4,
 "nbformat_minor": 4
}
