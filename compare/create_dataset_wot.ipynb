{
 "cells": [
  {
   "cell_type": "code",
   "execution_count": 1,
   "metadata": {},
   "outputs": [],
   "source": [
    "import anndata\n",
    "import pandas as pd\n",
    "import pickle\n",
    "import os"
   ]
  },
  {
   "cell_type": "code",
   "execution_count": 2,
   "metadata": {},
   "outputs": [],
   "source": [
    "os.makedirs(\"../data/wot\", exist_ok=True)"
   ]
  },
  {
   "cell_type": "code",
   "execution_count": 3,
   "metadata": {},
   "outputs": [],
   "source": [
    "adata = anndata.read_h5ad(\"../data/after_scegot.h5ad\")"
   ]
  },
  {
   "cell_type": "markdown",
   "metadata": {},
   "source": [
    "Generate files in the same format as those in the wot tutorial from an AnnData containing dimensionality reduction and clustering information in scEGOT."
   ]
  },
  {
   "cell_type": "markdown",
   "metadata": {},
   "source": [
    "Specifically, create a file corresponding to the following file in the official tutorial on wot\n",
    "\n",
    "```py\n",
    "FLE_COORDS_PATH ='data/fle_coords.txt'\n",
    "FULL_DS_PATH = 'data/ExprMatrix.h5ad'\n",
    "VAR_GENE_DS_PATH = 'data/ExprMatrix.var.genes.h5ad'\n",
    "CELL_DAYS_PATH = 'data/cell_days.txt'\n",
    "CELL_SETS_PATH = 'data/cell_sets.gmt'\n",
    "SERUM_CELL_IDS_PATH = 'data/serum_cell_ids.txt' # create by PGCLC data\n",
    "BATCH_PATH = 'data/batches.txt'\n",
    "TFS_PATH = 'data/TFs.txt'\n",
    "\n",
    "\n",
    "```"
   ]
  },
  {
   "cell_type": "markdown",
   "metadata": {},
   "source": [
    "Use the following files by copying the sample data files from the official wot into ../data/wot.\n",
    "\n",
    "```py\n",
    "GENE_SETS_PATH = 'data/gene_sets.gmx'\n",
    "```"
   ]
  },
  {
   "cell_type": "markdown",
   "metadata": {},
   "source": [
    "### fle_coords.txt"
   ]
  },
  {
   "cell_type": "code",
   "execution_count": 4,
   "metadata": {},
   "outputs": [],
   "source": [
    "coord_df = pd.DataFrame(\n",
    "    adata.obs.index,\n",
    "    columns=[\"id\"],\n",
    ")\n",
    "coord_df[\"x\"] = adata.obsm[\"X_pca\"][\"PC1\"].values\n",
    "coord_df[\"y\"] = adata.obsm[\"X_pca\"][\"PC2\"].values"
   ]
  },
  {
   "cell_type": "code",
   "execution_count": 5,
   "metadata": {},
   "outputs": [
    {
     "data": {
      "text/html": [
       "<div>\n",
       "<style scoped>\n",
       "    .dataframe tbody tr th:only-of-type {\n",
       "        vertical-align: middle;\n",
       "    }\n",
       "\n",
       "    .dataframe tbody tr th {\n",
       "        vertical-align: top;\n",
       "    }\n",
       "\n",
       "    .dataframe thead th {\n",
       "        text-align: right;\n",
       "    }\n",
       "</style>\n",
       "<table border=\"1\" class=\"dataframe\">\n",
       "  <thead>\n",
       "    <tr style=\"text-align: right;\">\n",
       "      <th></th>\n",
       "      <th>id</th>\n",
       "      <th>x</th>\n",
       "      <th>y</th>\n",
       "    </tr>\n",
       "  </thead>\n",
       "  <tbody>\n",
       "    <tr>\n",
       "      <th>0</th>\n",
       "      <td>iM.data_GTGGAAGGTCAATGGG-1</td>\n",
       "      <td>-12.804817</td>\n",
       "      <td>-8.028358</td>\n",
       "    </tr>\n",
       "    <tr>\n",
       "      <th>1</th>\n",
       "      <td>iM.data_TTCATGTCAACCCGCA-1</td>\n",
       "      <td>-14.946176</td>\n",
       "      <td>-7.865564</td>\n",
       "    </tr>\n",
       "    <tr>\n",
       "      <th>2</th>\n",
       "      <td>iM.data_GAGGGTATCCAGGACC-1</td>\n",
       "      <td>-14.889571</td>\n",
       "      <td>-7.110969</td>\n",
       "    </tr>\n",
       "    <tr>\n",
       "      <th>3</th>\n",
       "      <td>iM.data_AAGTCGTAGGCTTTCA-1</td>\n",
       "      <td>-14.259319</td>\n",
       "      <td>-6.567074</td>\n",
       "    </tr>\n",
       "    <tr>\n",
       "      <th>4</th>\n",
       "      <td>iM.data_ACCGTTCGTAACTTCG-1</td>\n",
       "      <td>-13.354401</td>\n",
       "      <td>-5.247036</td>\n",
       "    </tr>\n",
       "    <tr>\n",
       "      <th>...</th>\n",
       "      <td>...</td>\n",
       "      <td>...</td>\n",
       "      <td>...</td>\n",
       "    </tr>\n",
       "    <tr>\n",
       "      <th>11766</th>\n",
       "      <td>d2b.data_AAGCCATAGGGCGAGA-1</td>\n",
       "      <td>30.793955</td>\n",
       "      <td>-8.877089</td>\n",
       "    </tr>\n",
       "    <tr>\n",
       "      <th>11767</th>\n",
       "      <td>d2b.data_CAACCAATCTTCCGTG-1</td>\n",
       "      <td>8.537253</td>\n",
       "      <td>18.523152</td>\n",
       "    </tr>\n",
       "    <tr>\n",
       "      <th>11768</th>\n",
       "      <td>d2b.data_AGGCCACGTGAGTAGC-1</td>\n",
       "      <td>23.786500</td>\n",
       "      <td>-2.583448</td>\n",
       "    </tr>\n",
       "    <tr>\n",
       "      <th>11769</th>\n",
       "      <td>d2b.data_GATCAGTTCGAGTACT-1</td>\n",
       "      <td>24.097697</td>\n",
       "      <td>-0.539524</td>\n",
       "    </tr>\n",
       "    <tr>\n",
       "      <th>11770</th>\n",
       "      <td>d2b.data_TCATCCGTCATGGGAG-1</td>\n",
       "      <td>20.152720</td>\n",
       "      <td>0.443624</td>\n",
       "    </tr>\n",
       "  </tbody>\n",
       "</table>\n",
       "<p>11771 rows × 3 columns</p>\n",
       "</div>"
      ],
      "text/plain": [
       "                                id          x          y\n",
       "0       iM.data_GTGGAAGGTCAATGGG-1 -12.804817  -8.028358\n",
       "1       iM.data_TTCATGTCAACCCGCA-1 -14.946176  -7.865564\n",
       "2       iM.data_GAGGGTATCCAGGACC-1 -14.889571  -7.110969\n",
       "3       iM.data_AAGTCGTAGGCTTTCA-1 -14.259319  -6.567074\n",
       "4       iM.data_ACCGTTCGTAACTTCG-1 -13.354401  -5.247036\n",
       "...                            ...        ...        ...\n",
       "11766  d2b.data_AAGCCATAGGGCGAGA-1  30.793955  -8.877089\n",
       "11767  d2b.data_CAACCAATCTTCCGTG-1   8.537253  18.523152\n",
       "11768  d2b.data_AGGCCACGTGAGTAGC-1  23.786500  -2.583448\n",
       "11769  d2b.data_GATCAGTTCGAGTACT-1  24.097697  -0.539524\n",
       "11770  d2b.data_TCATCCGTCATGGGAG-1  20.152720   0.443624\n",
       "\n",
       "[11771 rows x 3 columns]"
      ]
     },
     "execution_count": 5,
     "metadata": {},
     "output_type": "execute_result"
    }
   ],
   "source": [
    "coord_df"
   ]
  },
  {
   "cell_type": "code",
   "execution_count": 6,
   "metadata": {},
   "outputs": [],
   "source": [
    "coord_df.to_csv(\"../data/wot/fle_coords.txt\", index=False, sep=\"\\t\")"
   ]
  },
  {
   "cell_type": "markdown",
   "metadata": {},
   "source": [
    "### ExprMatrix.h5ad"
   ]
  },
  {
   "cell_type": "code",
   "execution_count": 7,
   "metadata": {},
   "outputs": [],
   "source": [
    "expr_matrix = anndata.AnnData(adata.X)\n",
    "expr_matrix.var.index = adata.var.index\n",
    "expr_matrix.var[\"highly_variable\"] = adata.var[\"highly_variable\"].values\n",
    "expr_matrix.obs.index = adata.obs.index"
   ]
  },
  {
   "cell_type": "code",
   "execution_count": 8,
   "metadata": {},
   "outputs": [],
   "source": [
    "expr_matrix.write_h5ad(\"../data/wot/ExprMatrix.h5ad\")"
   ]
  },
  {
   "cell_type": "markdown",
   "metadata": {},
   "source": [
    "### ExprMatrix.var.genes.h5ad"
   ]
  },
  {
   "cell_type": "code",
   "execution_count": 9,
   "metadata": {},
   "outputs": [],
   "source": [
    "expr_matrix_var_genes = anndata.AnnData(\n",
    "    expr_matrix[:, expr_matrix.var[\"highly_variable\"]].X\n",
    ")\n",
    "expr_matrix_var_genes.var.index = expr_matrix.var[\n",
    "    expr_matrix.var[\"highly_variable\"]\n",
    "].index\n",
    "expr_matrix_var_genes.obs.index = expr_matrix.obs.index\n",
    "\n",
    "expr_matrix_var_genes.write_h5ad(\"../data/wot/ExprMatrix.var.genes.h5ad\")"
   ]
  },
  {
   "cell_type": "markdown",
   "metadata": {},
   "source": [
    "### cell_days.txt"
   ]
  },
  {
   "cell_type": "code",
   "execution_count": 10,
   "metadata": {},
   "outputs": [],
   "source": [
    "days_df = pd.DataFrame(adata.obs.index, columns=[\"id\"])\n",
    "days_df[\"day\"] = adata.obs[\"day_float\"].values"
   ]
  },
  {
   "cell_type": "code",
   "execution_count": 11,
   "metadata": {},
   "outputs": [],
   "source": [
    "days_df.to_csv(\"../data/wot/cell_days.txt\", index=False, sep=\"\\t\")"
   ]
  },
  {
   "cell_type": "markdown",
   "metadata": {},
   "source": [
    "### cell_sets.pkl"
   ]
  },
  {
   "cell_type": "code",
   "execution_count": 12,
   "metadata": {},
   "outputs": [],
   "source": [
    "cell_type_dict = {}\n",
    "\n",
    "for annotation in adata.obs[\"annotation\"].values.unique():\n",
    "    cell_names = adata[adata.obs[\"annotation\"] == annotation].obs.index.tolist()\n",
    "    cell_type_dict[annotation] = cell_names"
   ]
  },
  {
   "cell_type": "code",
   "execution_count": 13,
   "metadata": {},
   "outputs": [],
   "source": [
    "with open(\"../data/wot/cell_sets.pkl\", \"wb\") as f:\n",
    "    pickle.dump(cell_type_dict, f)"
   ]
  },
  {
   "cell_type": "markdown",
   "metadata": {},
   "source": [
    "### pgclc_cell_ids.txt"
   ]
  },
  {
   "cell_type": "code",
   "execution_count": 14,
   "metadata": {},
   "outputs": [],
   "source": [
    "pgclc_cell_names = [\"iMeLC\", \"PGCLC precursor\", \"PGCLC\"]"
   ]
  },
  {
   "cell_type": "code",
   "execution_count": 15,
   "metadata": {},
   "outputs": [],
   "source": [
    "pgclc_cell_ids = adata.obs.index[\n",
    "    adata.obs[\"annotation\"].isin(pgclc_cell_names)\n",
    "].to_series()"
   ]
  },
  {
   "cell_type": "code",
   "execution_count": 16,
   "metadata": {},
   "outputs": [],
   "source": [
    "pgclc_cell_ids.to_csv(\n",
    "    \"../data/wot/pgclc_cell_ids.txt\", index=False, header=None, sep=\"\\n\"\n",
    ")"
   ]
  },
  {
   "cell_type": "markdown",
   "metadata": {},
   "source": [
    "### batches.txt"
   ]
  },
  {
   "cell_type": "code",
   "execution_count": 17,
   "metadata": {},
   "outputs": [],
   "source": [
    "import random\n",
    "\n",
    "batches = pd.DataFrame(adata.obs.index, columns=[\"id\"])\n",
    "batches[\"covariate\"] = [random.randint(1, 2) for _ in range(adata.n_obs)]"
   ]
  },
  {
   "cell_type": "code",
   "execution_count": 18,
   "metadata": {},
   "outputs": [
    {
     "data": {
      "text/plain": [
       "covariate\n",
       "2    5894\n",
       "1    5877\n",
       "Name: count, dtype: int64"
      ]
     },
     "execution_count": 18,
     "metadata": {},
     "output_type": "execute_result"
    }
   ],
   "source": [
    "batches[\"covariate\"].value_counts()"
   ]
  },
  {
   "cell_type": "code",
   "execution_count": 19,
   "metadata": {},
   "outputs": [],
   "source": [
    "batches.to_csv(\"../data/wot/batches.txt\", index=False, sep=\"\\t\")"
   ]
  },
  {
   "cell_type": "markdown",
   "metadata": {},
   "source": [
    "### TFs.txt"
   ]
  },
  {
   "cell_type": "code",
   "execution_count": 20,
   "metadata": {},
   "outputs": [],
   "source": [
    "tf_genes = pd.read_csv(\"../data/TFgenes_name.csv\", header=None, index_col=0).T"
   ]
  },
  {
   "cell_type": "code",
   "execution_count": 21,
   "metadata": {},
   "outputs": [
    {
     "data": {
      "text/html": [
       "<div>\n",
       "<style scoped>\n",
       "    .dataframe tbody tr th:only-of-type {\n",
       "        vertical-align: middle;\n",
       "    }\n",
       "\n",
       "    .dataframe tbody tr th {\n",
       "        vertical-align: top;\n",
       "    }\n",
       "\n",
       "    .dataframe thead th {\n",
       "        text-align: right;\n",
       "    }\n",
       "</style>\n",
       "<table border=\"1\" class=\"dataframe\">\n",
       "  <thead>\n",
       "    <tr style=\"text-align: right;\">\n",
       "      <th></th>\n",
       "      <th>cell</th>\n",
       "    </tr>\n",
       "  </thead>\n",
       "  <tbody>\n",
       "    <tr>\n",
       "      <th>1</th>\n",
       "      <td>ZBTB8B</td>\n",
       "    </tr>\n",
       "    <tr>\n",
       "      <th>2</th>\n",
       "      <td>GSX2</td>\n",
       "    </tr>\n",
       "    <tr>\n",
       "      <th>3</th>\n",
       "      <td>TBX2</td>\n",
       "    </tr>\n",
       "    <tr>\n",
       "      <th>4</th>\n",
       "      <td>PAX8</td>\n",
       "    </tr>\n",
       "    <tr>\n",
       "      <th>5</th>\n",
       "      <td>CREB3L1</td>\n",
       "    </tr>\n",
       "    <tr>\n",
       "      <th>...</th>\n",
       "      <td>...</td>\n",
       "    </tr>\n",
       "    <tr>\n",
       "      <th>1564</th>\n",
       "      <td>CPEB1</td>\n",
       "    </tr>\n",
       "    <tr>\n",
       "      <th>1565</th>\n",
       "      <td>ZNF487</td>\n",
       "    </tr>\n",
       "    <tr>\n",
       "      <th>1566</th>\n",
       "      <td>NME2</td>\n",
       "    </tr>\n",
       "    <tr>\n",
       "      <th>1567</th>\n",
       "      <td>ZNF488</td>\n",
       "    </tr>\n",
       "    <tr>\n",
       "      <th>1568</th>\n",
       "      <td>ZNF280B</td>\n",
       "    </tr>\n",
       "  </tbody>\n",
       "</table>\n",
       "<p>1568 rows × 1 columns</p>\n",
       "</div>"
      ],
      "text/plain": [
       "0        cell\n",
       "1      ZBTB8B\n",
       "2        GSX2\n",
       "3        TBX2\n",
       "4        PAX8\n",
       "5     CREB3L1\n",
       "...       ...\n",
       "1564    CPEB1\n",
       "1565   ZNF487\n",
       "1566     NME2\n",
       "1567   ZNF488\n",
       "1568  ZNF280B\n",
       "\n",
       "[1568 rows x 1 columns]"
      ]
     },
     "execution_count": 21,
     "metadata": {},
     "output_type": "execute_result"
    }
   ],
   "source": [
    "tf_genes"
   ]
  },
  {
   "cell_type": "code",
   "execution_count": 22,
   "metadata": {},
   "outputs": [],
   "source": [
    "tf_genes.to_csv(\"../data/wot/TFs.txt\", index=False, header=None, sep=\"\\n\")"
   ]
  },
  {
   "cell_type": "code",
   "execution_count": null,
   "metadata": {},
   "outputs": [],
   "source": []
  }
 ],
 "metadata": {
  "kernelspec": {
   "display_name": "Python 3 (ipykernel)",
   "language": "python",
   "name": "python3"
  },
  "language_info": {
   "codemirror_mode": {
    "name": "ipython",
    "version": 3
   },
   "file_extension": ".py",
   "mimetype": "text/x-python",
   "name": "python",
   "nbconvert_exporter": "python",
   "pygments_lexer": "ipython3",
   "version": "3.11.8"
  }
 },
 "nbformat": 4,
 "nbformat_minor": 4
}
